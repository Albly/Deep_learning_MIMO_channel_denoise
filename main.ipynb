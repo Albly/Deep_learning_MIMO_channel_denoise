{
 "cells": [
  {
   "cell_type": "code",
   "execution_count": 1,
   "metadata": {},
   "outputs": [],
   "source": [
    "%load_ext autoreload\n",
    "%autoreload 2\n",
    "\n",
    "import torch\n",
    "import numpy as np \n",
    "import matplotlib.pyplot as plt\n",
    "from IPython import display\n",
    "import glob\n",
    "import scipy\n",
    "\n",
    "from src.mat_dataset import MAT_Dataset\n",
    "from torch.utils.data import DataLoader\n",
    "from torchsummary import summary\n",
    "\n",
    "from src.metrics import complex_MSE\n"
   ]
  },
  {
   "cell_type": "code",
   "execution_count": 2,
   "metadata": {},
   "outputs": [],
   "source": [
    "file_list = glob.glob('./data/*')\n",
    "train_dataset = MAT_Dataset(file_list[0], [0,1,2])\n",
    "test_dataset = MAT_Dataset(file_list[0], [3])\n",
    "\n",
    "batch_size = 2\n",
    "train_loader = DataLoader(train_dataset, batch_size = batch_size, shuffle = True)\n",
    "test_loader = DataLoader(test_dataset, batch_size = batch_size, shuffle = True)\n"
   ]
  },
  {
   "cell_type": "code",
   "execution_count": 9,
   "metadata": {},
   "outputs": [],
   "source": [
    "\n",
    "#==============================="
   ]
  },
  {
   "cell_type": "code",
   "execution_count": 4,
   "metadata": {},
   "outputs": [],
   "source": [
    "from src.models import Beam_DnCNN_3D\n",
    "from src.preprocessing import AntFreq2BeamTime_3D, BeamDelay2AntFreq_3D\n",
    "from src.preprocessing import Pol2Dim, PowerNoiseNormalizer"
   ]
  },
  {
   "cell_type": "code",
   "execution_count": null,
   "metadata": {},
   "outputs": [],
   "source": [
    "model = Beam_DnCNN_3D(cfg = cfg)"
   ]
  },
  {
   "cell_type": "code",
   "execution_count": 26,
   "metadata": {},
   "outputs": [
    {
     "name": "stdout",
     "output_type": "stream",
     "text": [
      "tensor(7.8891e-09)\n",
      "tensor(313344.)\n"
     ]
    }
   ],
   "source": [
    "x = next(iter(train_loader)).type(torch.complex64)\n",
    "\n",
    "y = model.WindowCut(\n",
    "    model.complex_to_dim(\n",
    "    model.left_transform(x, norma = torch.tensor([0.1, 0.1]))\n",
    "    ))\n",
    "\n",
    "x_ = model.right_transform(\n",
    "     model.dim_to_complex(\n",
    "     model.WindowCut(y, 'backward')))\n",
    "\n",
    "print(torch.sum(abs(x - x_)**2))\n",
    "print(torch.sum(abs(x)**2))"
   ]
  },
  {
   "cell_type": "code",
   "execution_count": 28,
   "metadata": {},
   "outputs": [],
   "source": [
    "x_denoised, noise_pred, L1 = model(x, torch.tensor([0.1, 0.1]))"
   ]
  },
  {
   "cell_type": "code",
   "execution_count": null,
   "metadata": {},
   "outputs": [],
   "source": []
  },
  {
   "cell_type": "code",
   "execution_count": null,
   "metadata": {},
   "outputs": [],
   "source": [
    "device = torch.device('cuda' if torch.cuda.is_available() else 'cpu')\n",
    "print(device)\n",
    "\n",
    "#=======================================================================\n",
    "cfg = {}\n",
    "cfg['N_hor'] = 8\n",
    "cfg['N_ver'] = 4\n",
    "cfg['N_pol'] = 2\n",
    "cfg['N_subc'] = 612 \n",
    "cfg['N_UE_ANT'] = 4 \n",
    "\n",
    "\n",
    "cfg['N_Az'] = 64\n",
    "cfg['N_El'] = 32\n",
    "cfg['N_time'] = 1024 \n",
    "cfg['window_cut'] = (32,16,70)\n",
    "#=======================================================================\n",
    "\n",
    "model = Beam_DnCNN_3D(cfg = cfg, n_layers = 15, n_features = 20)\n",
    "model = model.to(device)\n",
    "optimizer = torch.optim.Adam(model.parameters(), lr = 1e-3)\n",
    "scheduler = torch.optim.lr_scheduler.MultiStepLR(optimizer, milestones = [150, 200, 250], gamma = 0.1)\n",
    "\n",
    "train_model(model = model,\n",
    "            epochs = 200,\n",
    "            trainLoader = train_loader,\n",
    "            testLoader = test_loader,\n",
    "            optimizer = optimizer,\n",
    "            scheduler = scheduler,\n",
    "            criterion = complex_MSE)"
   ]
  }
 ],
 "metadata": {
  "kernelspec": {
   "display_name": "base",
   "language": "python",
   "name": "python3"
  },
  "language_info": {
   "codemirror_mode": {
    "name": "ipython",
    "version": 3
   },
   "file_extension": ".py",
   "mimetype": "text/x-python",
   "name": "python",
   "nbconvert_exporter": "python",
   "pygments_lexer": "ipython3",
   "version": "3.10.4"
  }
 },
 "nbformat": 4,
 "nbformat_minor": 2
}
