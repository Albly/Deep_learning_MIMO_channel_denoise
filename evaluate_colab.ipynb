{
  "nbformat": 4,
  "nbformat_minor": 0,
  "metadata": {
    "colab": {
      "provenance": [],
      "gpuType": "T4",
      "authorship_tag": "ABX9TyODTYekHHiaRkNWl/TaNuHk",
      "include_colab_link": true
    },
    "kernelspec": {
      "name": "python3",
      "display_name": "Python 3"
    },
    "language_info": {
      "name": "python"
    },
    "accelerator": "GPU"
  },
  "cells": [
    {
      "cell_type": "markdown",
      "metadata": {
        "id": "view-in-github",
        "colab_type": "text"
      },
      "source": [
        "<a href=\"https://colab.research.google.com/github/Albly/Deep_learning_MIMO_channel_denoise/blob/main/evaluate_colab.ipynb\" target=\"_parent\"><img src=\"https://colab.research.google.com/assets/colab-badge.svg\" alt=\"Open In Colab\"/></a>"
      ]
    },
    {
      "cell_type": "code",
      "execution_count": 1,
      "metadata": {
        "colab": {
          "base_uri": "https://localhost:8080/"
        },
        "id": "1GwIbeYws9JE",
        "outputId": "43542891-bcf6-4053-e6ec-2d9db4c4917b"
      },
      "outputs": [
        {
          "output_type": "stream",
          "name": "stdout",
          "text": [
            "Cloning into 'Deep_learning_MIMO_channel_denoise'...\n",
            "remote: Enumerating objects: 105, done.\u001b[K\n",
            "remote: Counting objects: 100% (105/105), done.\u001b[K\n",
            "remote: Compressing objects: 100% (70/70), done.\u001b[K\n",
            "remote: Total 105 (delta 55), reused 74 (delta 30), pack-reused 0\u001b[K\n",
            "Receiving objects: 100% (105/105), 2.46 MiB | 18.54 MiB/s, done.\n",
            "Resolving deltas: 100% (55/55), done.\n",
            "/content/Deep_learning_MIMO_channel_denoise\n"
          ]
        }
      ],
      "source": [
        "!git clone https://github.com/Albly/Deep_learning_MIMO_channel_denoise.git\n",
        "%cd Deep_learning_MIMO_channel_denoise\n",
        "!pip install mat73 -q\n",
        "\n",
        "%load_ext autoreload\n",
        "%autoreload 2"
      ]
    },
    {
      "cell_type": "code",
      "source": [
        "import torch\n",
        "import numpy as np\n",
        "import matplotlib.pyplot as plt\n",
        "from IPython import display\n",
        "import glob\n",
        "import scipy\n",
        "\n",
        "from src.mat_dataset import MAT_Dataset, gen_noise\n",
        "from torch.utils.data import DataLoader\n",
        "from torchsummary import summary\n",
        "from src.models import Beam_DnCNN_3D, train_model\n",
        "import json\n",
        "\n",
        "from src.metrics import complex_MSE, complex_LOG_MSE\n",
        "\n",
        "from google.colab import drive\n",
        "drive.mount('/content/gdrive')"
      ],
      "metadata": {
        "colab": {
          "base_uri": "https://localhost:8080/"
        },
        "id": "jhYJnUsDtI25",
        "outputId": "329210c7-81c9-4f3b-eb14-b17dcbfdfb98"
      },
      "execution_count": 6,
      "outputs": [
        {
          "output_type": "stream",
          "name": "stdout",
          "text": [
            "Drive already mounted at /content/gdrive; to attempt to forcibly remount, call drive.mount(\"/content/gdrive\", force_remount=True).\n"
          ]
        }
      ]
    },
    {
      "cell_type": "code",
      "source": [
        "file_path = '/content/gdrive/MyDrive/ChannelQriga_Freq_5kmh_Scena0_test_MIR_GIT_RAW_NR_BERLIN_UMa_NLOS_3p5GHz_seed_1001.mat'\n",
        "mode_path = glob.glob('./checkpoints/*.pt')\n",
        "\n",
        "dataset = MAT_Dataset(path = file_path, UEs = [0,1,2,3])\n",
        "dataloader = DataLoader(dataset, 5, shuffle = False)\n"
      ],
      "metadata": {
        "id": "5P6mv6b6t7m0"
      },
      "execution_count": 4,
      "outputs": []
    },
    {
      "cell_type": "code",
      "source": [
        "cfg = json.load(open(\"model_config.txt\"))\n",
        "model = Beam_DnCNN_3D(cfg = cfg, n_layers = 15, n_features = 20)\n",
        "device = torch.device('cuda' if torch.cuda.is_available() else 'cpu')\n",
        "weights = torch.load(mode_path[0], map_location=torch.device('cpu'))\n",
        "model.load_state_dict(weights)\n",
        "model.to(device)\n",
        "model.eval()\n",
        "\n",
        "out = torch.tensor([], dtype = torch.complex64)\n",
        "\n",
        "with torch.no_grad():\n",
        "    for snr in range(-20, -4):\n",
        "        out = torch.tensor([], dtype = torch.complex64).to(device)\n",
        "\n",
        "        for signal in dataloader:\n",
        "            noise = gen_noise(signal, snr)\n",
        "            signal, noise = signal.to(device), noise.to(device)\n",
        "\n",
        "            Power_noise = torch.sum(torch.abs(noise)**2 , dim = (1,2,3))\n",
        "            sigma = Power_noise / (cfg['N_time']*cfg['N_Az']*cfg['N_El']*cfg['N_pol'])\n",
        "\n",
        "            denoised_data, _, _ = model(signal + noise, norma = torch.sqrt(sigma))\n",
        "            out = torch.concat((out, denoised_data ), dim = 0)\n",
        "        out = out.to('cpu')\n",
        "        name = 'denoised_5kmh_{0}_SNR.mat'.format(snr)\n",
        "        scipy.io.savemat(\"/content/gdrive/MyDrive/outs/\"+name, {\"H_denoised\": out.numpy()})\n"
      ],
      "metadata": {
        "colab": {
          "base_uri": "https://localhost:8080/"
        },
        "id": "hy_XkYpatoyX",
        "outputId": "7a7966ba-2819-41b7-d28d-c57043bca492"
      },
      "execution_count": 12,
      "outputs": [
        {
          "output_type": "stream",
          "name": "stderr",
          "text": [
            "/content/Deep_learning_MIMO_channel_denoise/src/models.py:67: UserWarning: nn.init.kaiming_normal is now deprecated in favor of nn.init.kaiming_normal_.\n",
            "  nn.init.kaiming_normal(m.weight.data, a = 0, mode='fan_in')\n"
          ]
        }
      ]
    }
  ]
}