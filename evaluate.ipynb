{
 "cells": [
  {
   "cell_type": "code",
   "execution_count": 1,
   "metadata": {},
   "outputs": [],
   "source": [
    "%load_ext autoreload\n",
    "%autoreload 2\n",
    "\n",
    "import torch\n",
    "import numpy as np \n",
    "import matplotlib.pyplot as plt\n",
    "from IPython import display\n",
    "import glob\n",
    "import scipy\n",
    "\n",
    "from src.mat_dataset import MAT_Dataset,EVAL_Dateset\n",
    "from torch.utils.data import DataLoader\n",
    "from torchsummary import summary\n",
    "from src.models import Beam_DnCNN_3D, train_model\n",
    "\n",
    "from src.metrics import complex_MSE\n",
    "import json"
   ]
  },
  {
   "cell_type": "code",
   "execution_count": null,
   "metadata": {},
   "outputs": [],
   "source": [
    "def gen_mimo_noise(H, SNR):\n",
    "    N_tti, N_ue_ant, N_bs, N_subc = H.shape[0], H.shape[1],H.shape[2], H.shape[3]\n",
    "    noise_SRS = torch.sqrt(0.5) * (torch.rand(N_tti, N_ue_ant, N_bs, N_subc) + 1j*torch.rand(N_tti, N_ue_ant, N_bs, N_subc))\n",
    "    gain = torch.sqrt(torch.mean(H * H.conj(), dim = -1).unsqueeze(-1).repeat(1,1,1,288))\n",
    "    noise_SRS_normed = 10**(-SNR/20) * gain * noise_SRS\n",
    "    return noise_SRS_normed"
   ]
  },
  {
   "cell_type": "code",
   "execution_count": null,
   "metadata": {},
   "outputs": [],
   "source": [
    "file_list = glob.glob('./data/*.mat')\n",
    "mode_path = glob.glob('./checkpoints/*.pt')\n",
    "\n",
    "dataset = MAT_Dataset(path = file_list[0], UEs = [0,1,2,3])\n",
    "dataloader = DataLoader(dataset, 5, shuffle = False)\n",
    "\n",
    "\n",
    "\n",
    "cfg = json.load(open(\"model_config.txt\"))\n",
    "model = Beam_DnCNN_3D(cfg = cfg, n_layers = 15, n_features = 20)\n",
    "device = torch.device('cuda' if torch.cuda.is_available() else 'cpu')\n",
    "weights = torch.load(mode_path[0], map_location=torch.device('cpu'))\n",
    "model.load_state_dict(weights)\n",
    "model.to(device)\n",
    "model.eval()\n",
    "\n",
    "out = torch.tensor([], dtype = torch.complex64)\n",
    "\n",
    "with torch.no_grad():\n",
    "    for snr in range(-20, -4):\n",
    "        out = torch.tensor([], dtype = torch.complex64)\n",
    "        \n",
    "        for signal in dataloader:\n",
    "            noise = gen_mimo_noise(signal, snr)\n",
    "            signal, noise = signal.to(device), noise.to(device)\n",
    "\n",
    "            Power_noise = torch.sum(torch.abs(noise)**2 , dim = (1,2,3))\n",
    "            sigma = Power_noise / (cfg['N_time']*cfg['N_Az']*cfg['N_El']*cfg['N_pol'])\n",
    "\n",
    "            denoised_data, _, _ = model(signal + noise, norma = torch.sqrt(sigma))\n",
    "            out = torch.concat((out, denoised_data ), dim = 0)\n",
    "        out = out.to('cpu')\n",
    "        name = 'denoised_5kmh_{0}_SNR.mat'.format(snr)\n",
    "        scipy.io.savemat(\"./data/\"+name, {\"H_denoised\": out.numpy()})\n",
    "\n",
    "\n",
    "\n"
   ]
  },
  {
   "cell_type": "code",
   "execution_count": null,
   "metadata": {},
   "outputs": [],
   "source": []
  },
  {
   "cell_type": "code",
   "execution_count": null,
   "metadata": {},
   "outputs": [],
   "source": []
  }
 ],
 "metadata": {
  "kernelspec": {
   "display_name": "base",
   "language": "python",
   "name": "python3"
  },
  "language_info": {
   "codemirror_mode": {
    "name": "ipython",
    "version": 3
   },
   "file_extension": ".py",
   "mimetype": "text/x-python",
   "name": "python",
   "nbconvert_exporter": "python",
   "pygments_lexer": "ipython3",
   "version": "3.10.4"
  }
 },
 "nbformat": 4,
 "nbformat_minor": 2
}
